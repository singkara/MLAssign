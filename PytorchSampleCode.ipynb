{
  "nbformat": 4,
  "nbformat_minor": 0,
  "metadata": {
    "colab": {
      "name": "PytorchSampleCode.ipynb",
      "provenance": [],
      "collapsed_sections": [],
      "machine_shape": "hm",
      "include_colab_link": true
    },
    "kernelspec": {
      "name": "python3",
      "display_name": "Python 3"
    },
    "accelerator": "GPU"
  },
  "cells": [
    {
      "cell_type": "markdown",
      "metadata": {
        "id": "view-in-github",
        "colab_type": "text"
      },
      "source": [
        "<a href=\"https://colab.research.google.com/github/singkara/MLAssign/blob/master/PytorchSampleCode.ipynb\" target=\"_parent\"><img src=\"https://colab.research.google.com/assets/colab-badge.svg\" alt=\"Open In Colab\"/></a>"
      ]
    },
    {
      "cell_type": "code",
      "metadata": {
        "id": "bo97puB7a_C2",
        "colab_type": "code",
        "colab": {}
      },
      "source": [
        "#There are 2 clear advantages of PyTorch:\n",
        "\n",
        "#Speed. The PyTorch version runs about 20 minutes faster.\n",
        "#Determinism. The PyTorch version is fully deterministic. Especially when it gets harder to improve your score later in the competition, determinism is very important.\n",
        "\n",
        "\n",
        "#Imports\n",
        "import numpy as np\n",
        "import pandas as pd\n",
        "import os\n",
        "import time\n",
        "import gc\n",
        "import random\n",
        "from tqdm._tqdm_notebook import tqdm_notebook as tqdm\n",
        "from keras.preprocessing import text, sequence\n",
        "import torch\n",
        "from torch import nn\n",
        "from torch.utils import data\n",
        "from torch.nn import functional as F\n",
        "\n",
        "\n",
        "!pip install -U -q PyDrive\n",
        "from pydrive.auth import GoogleAuth\n",
        "from pydrive.drive import GoogleDrive\n",
        "from google.colab import auth\n",
        "from oauth2client.client import GoogleCredentials\n",
        "# Authenticate and create the PyDrive client.\n",
        "auth.authenticate_user()\n",
        "gauth = GoogleAuth()\n",
        "gauth.credentials = GoogleCredentials.get_application_default()\n",
        "drive = GoogleDrive(gauth)\n"
      ],
      "execution_count": 0,
      "outputs": []
    },
    {
      "cell_type": "code",
      "metadata": {
        "id": "x1HetKo6JS9J",
        "colab_type": "code",
        "colab": {
          "base_uri": "https://localhost:8080/",
          "height": 122
        },
        "outputId": "3dd528e6-e92e-4efd-9fe2-8a79dd31f494"
      },
      "source": [
        "from google.colab import drive\n",
        "drive.mount('/content/drive')"
      ],
      "execution_count": 9,
      "outputs": [
        {
          "output_type": "stream",
          "text": [
            "Go to this URL in a browser: https://accounts.google.com/o/oauth2/auth?client_id=947318989803-6bn6qk8qdgf4n4g3pfee6491hc0brc4i.apps.googleusercontent.com&redirect_uri=urn%3aietf%3awg%3aoauth%3a2.0%3aoob&response_type=code&scope=email%20https%3a%2f%2fwww.googleapis.com%2fauth%2fdocs.test%20https%3a%2f%2fwww.googleapis.com%2fauth%2fdrive%20https%3a%2f%2fwww.googleapis.com%2fauth%2fdrive.photos.readonly%20https%3a%2f%2fwww.googleapis.com%2fauth%2fpeopleapi.readonly\n",
            "\n",
            "Enter your authorization code:\n",
            "··········\n",
            "Mounted at /content/drive\n"
          ],
          "name": "stdout"
        }
      ]
    },
    {
      "cell_type": "code",
      "metadata": {
        "id": "6RxfSe8ccR0m",
        "colab_type": "code",
        "colab": {}
      },
      "source": [
        "# Adding progress bars for monitoring\n",
        "def is_interactive():\n",
        "   return 'SHLVL' not in os.environ\n",
        "  \n",
        "os.environ[\"CUDA_VISIBLE_DEVICES\"] = '0'\n",
        "\n",
        "if not is_interactive():\n",
        "    def nop(it, *a, **k):\n",
        "        return it\n",
        "\n",
        "    tqdm = nop\n",
        "\n",
        "\n",
        "def seed_everything(seed=1234):\n",
        "    random.seed(seed)\n",
        "    os.environ['PYTHONHASHSEED'] = str(seed)\n",
        "    np.random.seed(seed)\n",
        "    torch.manual_seed(seed)\n",
        "    torch.cuda.manual_seed(seed)\n",
        "    torch.backends.cudnn.deterministic = True\n",
        "seed_everything()\n",
        "\n",
        "\n",
        "CRAWL_EMBEDDING_PATH = 'drive/My Drive/crawl-300d-2M.vec'\n",
        "GLOVE_EMBEDDING_PATH = 'drive/My Drive/glove.840B.300d.txt'\n",
        "NUM_MODELS = 2\n",
        "LSTM_UNITS = 128\n",
        "DENSE_HIDDEN_UNITS = 4 * LSTM_UNITS\n",
        "MAX_LEN = 220\n",
        "\n",
        "def get_coefs(word, *arr):\n",
        "    return word, np.asarray(arr, dtype='float32')\n",
        "\n",
        "\n",
        "def load_embeddings(path):\n",
        "    with open(path) as f:\n",
        "        return dict(get_coefs(*line.strip().split(' ')) for line in tqdm(f))\n",
        "\n",
        "\n",
        "def build_matrix(word_index, path):\n",
        "    embedding_index = load_embeddings(path)\n",
        "    embedding_matrix = np.zeros((len(word_index) + 1, 300))\n",
        "    unknown_words = []\n",
        "    \n",
        "    for word, i in word_index.items():\n",
        "        try:\n",
        "            embedding_matrix[i] = embedding_index[word]\n",
        "        except KeyError:\n",
        "            unknown_words.append(word)\n",
        "    return embedding_matrix, unknown_words\n",
        "\n"
      ],
      "execution_count": 0,
      "outputs": []
    },
    {
      "cell_type": "code",
      "metadata": {
        "id": "nwkTvovAyBg0",
        "colab_type": "code",
        "colab": {}
      },
      "source": [
        "def sigmoid(x):\n",
        "    return 1 / (1 + np.exp(-x))\n",
        "\n",
        "def train_model(model, train, test, loss_fn, output_dim, lr=0.001,\n",
        "                batch_size=512, n_epochs=4,\n",
        "                enable_checkpoint_ensemble=True):\n",
        "    param_lrs = [{'params': param, 'lr': lr} for param in model.parameters()]\n",
        "    optimizer = torch.optim.Adam(param_lrs, lr=lr)\n",
        "\n",
        "    scheduler = torch.optim.lr_scheduler.LambdaLR(optimizer, lambda epoch: 0.6 ** epoch)\n",
        "    \n",
        "    train_loader = torch.utils.data.DataLoader(train, batch_size=batch_size, shuffle=True)\n",
        "    test_loader = torch.utils.data.DataLoader(test, batch_size=batch_size, shuffle=False)\n",
        "    all_test_preds = []\n",
        "    checkpoint_weights = [2 ** epoch for epoch in range(n_epochs)]\n",
        "    \n",
        "    for epoch in range(n_epochs):\n",
        "        start_time = time.time()\n",
        "        \n",
        "        scheduler.step()\n",
        "        \n",
        "        model.train()\n",
        "        avg_loss = 0.\n",
        "        \n",
        "        for data in tqdm(train_loader, disable=False):\n",
        "            x_batch = data[:-1]\n",
        "            y_batch = data[-1]\n",
        "\n",
        "            y_pred = model(*x_batch)            \n",
        "            loss = loss_fn(y_pred, y_batch)\n",
        "\n",
        "            optimizer.zero_grad()\n",
        "            loss.backward()\n",
        "\n",
        "            optimizer.step()\n",
        "            avg_loss += loss.item() / len(train_loader)\n",
        "            \n",
        "        model.eval()\n",
        "        test_preds = np.zeros((len(test), output_dim))\n",
        "    \n",
        "        for i, x_batch in enumerate(test_loader):\n",
        "            y_pred = sigmoid(model(*x_batch).detach().cpu().numpy())\n",
        "\n",
        "            test_preds[i * batch_size:(i+1) * batch_size, :] = y_pred\n",
        "\n",
        "        all_test_preds.append(test_preds)\n",
        "        elapsed_time = time.time() - start_time\n",
        "        print('Epoch {}/{} \\t loss={:.4f} \\t time={:.2f}s'.format(\n",
        "              epoch + 1, n_epochs, avg_loss, elapsed_time))\n",
        "\n",
        "    if enable_checkpoint_ensemble:\n",
        "        test_preds = np.average(all_test_preds, weights=checkpoint_weights, axis=0)    \n",
        "    else:\n",
        "        test_preds = all_test_preds[-1]\n",
        "        \n",
        "    return test_preds"
      ],
      "execution_count": 0,
      "outputs": []
    },
    {
      "cell_type": "code",
      "metadata": {
        "id": "IR3orslfyKyr",
        "colab_type": "code",
        "colab": {}
      },
      "source": [
        "class SpatialDropout(nn.Dropout2d):\n",
        "    def forward(self, x):\n",
        "        x = x.unsqueeze(2)    # (N, T, 1, K)\n",
        "        x = x.permute(0, 3, 2, 1)  # (N, K, 1, T)\n",
        "        x = super(SpatialDropout, self).forward(x)  # (N, K, 1, T), some features are masked\n",
        "        x = x.permute(0, 3, 2, 1)  # (N, T, 1, K)\n",
        "        x = x.squeeze(2)  # (N, T, K)\n",
        "        return x\n",
        "    \n",
        "class NeuralNet(nn.Module):\n",
        "    def __init__(self, embedding_matrix, num_aux_targets):\n",
        "        super(NeuralNet, self).__init__()\n",
        "        embed_size = embedding_matrix.shape[1]\n",
        "        \n",
        "        self.embedding = nn.Embedding(max_features, embed_size)\n",
        "        self.embedding.weight = nn.Parameter(torch.tensor(embedding_matrix, dtype=torch.float32))\n",
        "        self.embedding.weight.requires_grad = False\n",
        "        self.embedding_dropout = SpatialDropout(0.3)\n",
        "        \n",
        "        self.lstm1 = nn.LSTM(embed_size, LSTM_UNITS, bidirectional=True, batch_first=True)\n",
        "        self.lstm2 = nn.LSTM(LSTM_UNITS * 2, LSTM_UNITS, bidirectional=True, batch_first=True)\n",
        "    \n",
        "        self.linear1 = nn.Linear(DENSE_HIDDEN_UNITS, DENSE_HIDDEN_UNITS)\n",
        "        self.linear2 = nn.Linear(DENSE_HIDDEN_UNITS, DENSE_HIDDEN_UNITS)\n",
        "        \n",
        "        self.linear_out = nn.Linear(DENSE_HIDDEN_UNITS, 1)\n",
        "        self.linear_aux_out = nn.Linear(DENSE_HIDDEN_UNITS, num_aux_targets)\n",
        "        \n",
        "    def forward(self, x):\n",
        "        h_embedding = self.embedding(x)\n",
        "        h_embedding = self.embedding_dropout(h_embedding)\n",
        "        \n",
        "        h_lstm1, _ = self.lstm1(h_embedding)\n",
        "        h_lstm2, _ = self.lstm2(h_lstm1)\n",
        "        \n",
        "        # global average pooling\n",
        "        avg_pool = torch.mean(h_lstm2, 1)\n",
        "        # global max pooling\n",
        "        max_pool, _ = torch.max(h_lstm2, 1)\n",
        "        \n",
        "        h_conc = torch.cat((max_pool, avg_pool), 1)\n",
        "        h_conc_linear1  = F.relu(self.linear1(h_conc))\n",
        "        h_conc_linear2  = F.relu(self.linear2(h_conc))\n",
        "        \n",
        "        hidden = h_conc + h_conc_linear1 + h_conc_linear2\n",
        "        \n",
        "        result = self.linear_out(hidden)\n",
        "        aux_result = self.linear_aux_out(hidden)\n",
        "        out = torch.cat([result, aux_result], 1)\n",
        "        \n",
        "        return out"
      ],
      "execution_count": 0,
      "outputs": []
    },
    {
      "cell_type": "code",
      "metadata": {
        "id": "N-GzRgdtyMlg",
        "colab_type": "code",
        "colab": {}
      },
      "source": [
        "def preprocess(data):\n",
        "    '''\n",
        "    Credit goes to https://www.kaggle.com/gpreda/jigsaw-fast-compact-solution\n",
        "    '''\n",
        "    punct = \"/-'?!.,#$%\\'()*+-/:;<=>@[\\\\]^_`{|}~`\" + '\"\"“”’' + '∞θ÷α•à−β∅³π‘₹´°£€\\×™√²—–&'\n",
        "    def clean_special_chars(text, punct):\n",
        "        for p in punct:\n",
        "            text = text.replace(p, ' ')\n",
        "        return text\n",
        "\n",
        "    data = data.astype(str).apply(lambda x: clean_special_chars(x, punct))\n",
        "    return data"
      ],
      "execution_count": 0,
      "outputs": []
    },
    {
      "cell_type": "code",
      "metadata": {
        "id": "iRgB4oKIyhxi",
        "colab_type": "code",
        "colab": {}
      },
      "source": [
        "\n",
        "\n",
        "link_crawl_id = '1pprXESBO0yXAOXXYhYbAHnFl7pT1LP8i'\n",
        "link_glove_id = '18M35yVe8UiV2ywO68bvuivli8bez7bXx'\n",
        "train_id = '15QFlCSwXb9WtPxbfVb1gWcWUB5M5Xgy5'\n",
        "test_id = '11ENTNJx6OFHOwSOczvVdjFaM_Istn_b9'\n",
        "\n",
        "#downloaded_crawl = drive.CreateFile({'id':link_crawl_id}) \n",
        "#downloaded_glove = drive.CreateFile({'id':link_glove_id}) \n",
        "#downloaded_train = drive.CreateFile({'id':train_id}) \n",
        "#downloaded_test = drive.CreateFile({'id':test_id}) \n",
        "\n",
        "#downloaded_crawl.GetContentFile('crawl-300d-2M.vec') \n",
        "#downloaded_glove.GetContentFile('glove.840B.300d.txt')  \n",
        "#downloaded_train.GetContentFile('train.csv') \n",
        "#downloaded_test.GetContentFile('test.csv') \n",
        "\n",
        "train = pd.read_csv('drive/My Drive/train.csv')\n",
        "test = pd.read_csv('drive/My Drive/test.csv')\n",
        "\n",
        "\n",
        "x_train = preprocess(train['comment_text'])\n",
        "y_train = np.where(train['target'] >= 0.5, 1, 0)\n",
        "y_aux_train = train[['target', 'severe_toxicity', 'obscene', 'identity_attack', 'insult', 'threat']]\n",
        "x_test = preprocess(test['comment_text'])"
      ],
      "execution_count": 0,
      "outputs": []
    },
    {
      "cell_type": "code",
      "metadata": {
        "id": "Q9dmdK4HC4O9",
        "colab_type": "code",
        "colab": {}
      },
      "source": [
        "max_features = None"
      ],
      "execution_count": 0,
      "outputs": []
    },
    {
      "cell_type": "code",
      "metadata": {
        "id": "ET-8zUg5NbVW",
        "colab_type": "code",
        "colab": {}
      },
      "source": [
        "tokenizer = text.Tokenizer()"
      ],
      "execution_count": 0,
      "outputs": []
    },
    {
      "cell_type": "code",
      "metadata": {
        "id": "kZNH2ULpNbYN",
        "colab_type": "code",
        "colab": {}
      },
      "source": [
        "tokenizer.fit_on_texts(list(x_train) + list(x_test))"
      ],
      "execution_count": 0,
      "outputs": []
    },
    {
      "cell_type": "code",
      "metadata": {
        "id": "UQoPD455Nba0",
        "colab_type": "code",
        "colab": {}
      },
      "source": [
        "x_train = tokenizer.texts_to_sequences(x_train)\n",
        "x_test = tokenizer.texts_to_sequences(x_test)\n",
        "x_train = sequence.pad_sequences(x_train, maxlen=MAX_LEN)\n",
        "x_test = sequence.pad_sequences(x_test, maxlen=MAX_LEN)"
      ],
      "execution_count": 0,
      "outputs": []
    },
    {
      "cell_type": "code",
      "metadata": {
        "id": "lhUOUiK0NbsJ",
        "colab_type": "code",
        "outputId": "f2be943d-3484-4e80-89dd-f4ba9e516fe2",
        "colab": {
          "base_uri": "https://localhost:8080/",
          "height": 34
        }
      },
      "source": [
        "max_features = max_features or len(tokenizer.word_index) + 1\n",
        "max_features"
      ],
      "execution_count": 19,
      "outputs": [
        {
          "output_type": "execute_result",
          "data": {
            "text/plain": [
              "327009"
            ]
          },
          "metadata": {
            "tags": []
          },
          "execution_count": 19
        }
      ]
    },
    {
      "cell_type": "code",
      "metadata": {
        "id": "gIyKf2jYNbSh",
        "colab_type": "code",
        "outputId": "eb6934f1-0877-4610-ff17-79434c3f67aa",
        "colab": {
          "base_uri": "https://localhost:8080/",
          "height": 34
        }
      },
      "source": [
        "crawl_matrix, unknown_words_crawl = build_matrix(tokenizer.word_index, CRAWL_EMBEDDING_PATH)\n",
        "print('n unknown words (crawl): ', len(unknown_words_crawl))"
      ],
      "execution_count": 20,
      "outputs": [
        {
          "output_type": "stream",
          "text": [
            "n unknown words (crawl):  173678\n"
          ],
          "name": "stdout"
        }
      ]
    },
    {
      "cell_type": "code",
      "metadata": {
        "id": "IsrT5ZjTVMa-",
        "colab_type": "code",
        "outputId": "d0fe6261-d2f0-400f-acb0-4e810b43964c",
        "colab": {
          "base_uri": "https://localhost:8080/",
          "height": 34
        }
      },
      "source": [
        "glove_matrix, unknown_words_glove = build_matrix(tokenizer.word_index, GLOVE_EMBEDDING_PATH)\n",
        "print('n unknown words (glove): ', len(unknown_words_glove))"
      ],
      "execution_count": 21,
      "outputs": [
        {
          "output_type": "stream",
          "text": [
            "n unknown words (glove):  170383\n"
          ],
          "name": "stdout"
        }
      ]
    },
    {
      "cell_type": "code",
      "metadata": {
        "id": "dt2W7dkZVP6A",
        "colab_type": "code",
        "outputId": "4dfc5249-2f87-4309-87c4-35e3768e2d0b",
        "colab": {
          "base_uri": "https://localhost:8080/",
          "height": 51
        }
      },
      "source": [
        "embedding_matrix = np.concatenate([crawl_matrix, glove_matrix], axis=-1)\n",
        "print(embedding_matrix.shape)\n",
        "\n",
        "del crawl_matrix\n",
        "del glove_matrix\n",
        "gc.collect()\n"
      ],
      "execution_count": 22,
      "outputs": [
        {
          "output_type": "stream",
          "text": [
            "(327009, 600)\n"
          ],
          "name": "stdout"
        },
        {
          "output_type": "execute_result",
          "data": {
            "text/plain": [
              "0"
            ]
          },
          "metadata": {
            "tags": []
          },
          "execution_count": 22
        }
      ]
    },
    {
      "cell_type": "code",
      "metadata": {
        "id": "3ohDhje5VTXy",
        "colab_type": "code",
        "colab": {}
      },
      "source": [
        "x_train_torch = torch.tensor(x_train, dtype=torch.long).cuda()\n",
        "x_test_torch = torch.tensor(x_test, dtype=torch.long).cuda()\n",
        "y_train_torch = torch.tensor(np.hstack([y_train[:, np.newaxis], y_aux_train]), dtype=torch.float32).cuda()"
      ],
      "execution_count": 0,
      "outputs": []
    },
    {
      "cell_type": "code",
      "metadata": {
        "id": "trHCmoAWX9Ak",
        "colab_type": "code",
        "colab": {
          "base_uri": "https://localhost:8080/",
          "height": 224
        },
        "outputId": "3a97b2ab-d22c-4278-8865-bcc018151590"
      },
      "source": [
        "# Training\n",
        "train_dataset = data.TensorDataset(x_train_torch, y_train_torch)\n",
        "test_dataset = data.TensorDataset(x_test_torch)\n",
        "\n",
        "all_test_preds = []\n",
        "\n",
        "for model_idx in range(NUM_MODELS):\n",
        "    print('Model ', model_idx)\n",
        "    seed_everything(1234 + model_idx)\n",
        "    \n",
        "    model = NeuralNet(embedding_matrix, y_aux_train.shape[-1])\n",
        "    model.cuda()\n",
        "    \n",
        "    test_preds = train_model(model, train_dataset, test_dataset, output_dim=y_train_torch.shape[-1], \n",
        "                             loss_fn=nn.BCEWithLogitsLoss(reduction='mean'))\n",
        "    all_test_preds.append(test_preds)\n",
        "    print()"
      ],
      "execution_count": 0,
      "outputs": [
        {
          "output_type": "stream",
          "text": [
            "Model  0\n"
          ],
          "name": "stdout"
        },
        {
          "output_type": "stream",
          "text": [
            "/usr/local/lib/python3.6/dist-packages/torch/optim/lr_scheduler.py:100: UserWarning: Detected call of `lr_scheduler.step()` before `optimizer.step()`. In PyTorch 1.1.0 and later, you should call them in the opposite order: `optimizer.step()` before `lr_scheduler.step()`.  Failure to do this will result in PyTorch skipping the first value of the learning rate schedule.See more details at https://pytorch.org/docs/stable/optim.html#how-to-adjust-learning-rate\n",
            "  \"https://pytorch.org/docs/stable/optim.html#how-to-adjust-learning-rate\", UserWarning)\n"
          ],
          "name": "stderr"
        },
        {
          "output_type": "stream",
          "text": [
            "Epoch 1/4 \t loss=0.1109 \t time=584.45s\n",
            "Epoch 2/4 \t loss=0.1041 \t time=586.25s\n",
            "Epoch 3/4 \t loss=0.1027 \t time=587.13s\n",
            "Epoch 4/4 \t loss=0.1019 \t time=587.53s\n",
            "\n",
            "Model  1\n",
            "Epoch 1/4 \t loss=0.1110 \t time=586.91s\n",
            "Epoch 2/4 \t loss=0.1041 \t time=589.33s\n"
          ],
          "name": "stdout"
        }
      ]
    },
    {
      "cell_type": "code",
      "metadata": {
        "id": "UiKb8ycuYBnK",
        "colab_type": "code",
        "colab": {}
      },
      "source": [
        "submission = pd.DataFrame.from_dict({\n",
        "    'id': test['id'],\n",
        "    'prediction': np.mean(all_test_preds, axis=0)[:, 0]\n",
        "})\n",
        "\n",
        "submission.to_csv('submission.csv', index=False)"
      ],
      "execution_count": 0,
      "outputs": []
    }
  ]
}